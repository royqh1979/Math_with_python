{
 "cells": [
  {
   "cell_type": "code",
   "execution_count": 1,
   "metadata": {},
   "outputs": [],
   "source": [
    "import sympy as sm"
   ]
  },
  {
   "cell_type": "code",
   "execution_count": 20,
   "metadata": {},
   "outputs": [],
   "source": [
    "n=8\n",
    "a=3\n",
    "b=8"
   ]
  },
  {
   "cell_type": "code",
   "execution_count": 21,
   "metadata": {},
   "outputs": [],
   "source": [
    "J=sm.ones(n)"
   ]
  },
  {
   "cell_type": "code",
   "execution_count": 22,
   "metadata": {},
   "outputs": [
    {
     "data": {
      "text/latex": [
       "$\\displaystyle \\left[\\begin{matrix}1 & 1 & 1 & 1 & 1 & 1 & 1 & 1\\\\1 & 1 & 1 & 1 & 1 & 1 & 1 & 1\\\\1 & 1 & 1 & 1 & 1 & 1 & 1 & 1\\\\1 & 1 & 1 & 1 & 1 & 1 & 1 & 1\\\\1 & 1 & 1 & 1 & 1 & 1 & 1 & 1\\\\1 & 1 & 1 & 1 & 1 & 1 & 1 & 1\\\\1 & 1 & 1 & 1 & 1 & 1 & 1 & 1\\\\1 & 1 & 1 & 1 & 1 & 1 & 1 & 1\\end{matrix}\\right]$"
      ],
      "text/plain": [
       "Matrix([\n",
       "[1, 1, 1, 1, 1, 1, 1, 1],\n",
       "[1, 1, 1, 1, 1, 1, 1, 1],\n",
       "[1, 1, 1, 1, 1, 1, 1, 1],\n",
       "[1, 1, 1, 1, 1, 1, 1, 1],\n",
       "[1, 1, 1, 1, 1, 1, 1, 1],\n",
       "[1, 1, 1, 1, 1, 1, 1, 1],\n",
       "[1, 1, 1, 1, 1, 1, 1, 1],\n",
       "[1, 1, 1, 1, 1, 1, 1, 1]])"
      ]
     },
     "execution_count": 22,
     "metadata": {},
     "output_type": "execute_result"
    }
   ],
   "source": [
    "J"
   ]
  },
  {
   "cell_type": "code",
   "execution_count": 23,
   "metadata": {},
   "outputs": [],
   "source": [
    "A=(a-b)*sm.eye(n)+b*J"
   ]
  },
  {
   "cell_type": "code",
   "execution_count": 24,
   "metadata": {},
   "outputs": [
    {
     "data": {
      "text/latex": [
       "$\\displaystyle \\left[\\begin{matrix}3 & 8 & 8 & 8 & 8 & 8 & 8 & 8\\\\8 & 3 & 8 & 8 & 8 & 8 & 8 & 8\\\\8 & 8 & 3 & 8 & 8 & 8 & 8 & 8\\\\8 & 8 & 8 & 3 & 8 & 8 & 8 & 8\\\\8 & 8 & 8 & 8 & 3 & 8 & 8 & 8\\\\8 & 8 & 8 & 8 & 8 & 3 & 8 & 8\\\\8 & 8 & 8 & 8 & 8 & 8 & 3 & 8\\\\8 & 8 & 8 & 8 & 8 & 8 & 8 & 3\\end{matrix}\\right]$"
      ],
      "text/plain": [
       "Matrix([\n",
       "[3, 8, 8, 8, 8, 8, 8, 8],\n",
       "[8, 3, 8, 8, 8, 8, 8, 8],\n",
       "[8, 8, 3, 8, 8, 8, 8, 8],\n",
       "[8, 8, 8, 3, 8, 8, 8, 8],\n",
       "[8, 8, 8, 8, 3, 8, 8, 8],\n",
       "[8, 8, 8, 8, 8, 3, 8, 8],\n",
       "[8, 8, 8, 8, 8, 8, 3, 8],\n",
       "[8, 8, 8, 8, 8, 8, 8, 3]])"
      ]
     },
     "execution_count": 24,
     "metadata": {},
     "output_type": "execute_result"
    }
   ],
   "source": [
    "A"
   ]
  },
  {
   "cell_type": "code",
   "execution_count": 25,
   "metadata": {},
   "outputs": [
    {
     "data": {
      "text/latex": [
       "$\\displaystyle -4609375$"
      ],
      "text/plain": [
       "-4609375"
      ]
     },
     "execution_count": 25,
     "metadata": {},
     "output_type": "execute_result"
    }
   ],
   "source": [
    "A.det()"
   ]
  },
  {
   "cell_type": "code",
   "execution_count": 26,
   "metadata": {},
   "outputs": [
    {
     "data": {
      "text/plain": [
       "-4609375"
      ]
     },
     "execution_count": 26,
     "metadata": {},
     "output_type": "execute_result"
    }
   ],
   "source": [
    "(a-b)**(n-1)*(a+(n-1)*b)"
   ]
  }
 ],
 "metadata": {
  "kernelspec": {
   "display_name": "Python 3",
   "language": "python",
   "name": "python3"
  },
  "language_info": {
   "codemirror_mode": {
    "name": "ipython",
    "version": 3
   },
   "file_extension": ".py",
   "mimetype": "text/x-python",
   "name": "python",
   "nbconvert_exporter": "python",
   "pygments_lexer": "ipython3",
   "version": "3.7.3"
  }
 },
 "nbformat": 4,
 "nbformat_minor": 2
}
