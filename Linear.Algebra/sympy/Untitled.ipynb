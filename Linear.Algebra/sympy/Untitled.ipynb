{
 "cells": [
  {
   "cell_type": "markdown",
   "metadata": {},
   "source": [
    "## 使用Sympy求解线性方程组"
   ]
  },
  {
   "cell_type": "markdown",
   "metadata": {},
   "source": [
    "#### 导入sympy"
   ]
  },
  {
   "cell_type": "code",
   "execution_count": 2,
   "metadata": {},
   "outputs": [],
   "source": [
    "import sympy as sm\n",
    "sm.init_printing()"
   ]
  },
  {
   "cell_type": "markdown",
   "metadata": {},
   "source": [
    "#### 问题1 "
   ]
  },
  {
   "cell_type": "code",
   "execution_count": 6,
   "metadata": {},
   "outputs": [
    {
     "data": {
      "image/png": "[encoded data removed]",
      "text/latex": [
       "$\\displaystyle x_{1} + 4 x_{2} - 5 x_{3}$"
      ],
      "text/plain": [
       "x₁ + 4⋅x₂ - 5⋅x₃"
      ]
     },
     "execution_count": 6,
     "metadata": {},
     "output_type": "execute_result"
    }
   ],
   "source": [
    "x1,x2,x3=sm.symbols(\"x1 x2 x3\")\n",
    "e1=x1+4*x2-5*x3\n",
    "e1"
   ]
  },
  {
   "cell_type": "code",
   "execution_count": 7,
   "metadata": {},
   "outputs": [
    {
     "data": {
      "image/png": "[encoded data removed]",
      "text/latex": [
       "$\\displaystyle 2 x_{1} - x_{2} + 8 x_{3} - 9$"
      ],
      "text/plain": [
       "2⋅x₁ - x₂ + 8⋅x₃ - 9"
      ]
     },
     "execution_count": 7,
     "metadata": {},
     "output_type": "execute_result"
    }
   ],
   "source": [
    "e2=2*x1-x2+8*x3-9\n",
    "e2"
   ]
  },
  {
   "cell_type": "code",
   "execution_count": 9,
   "metadata": {},
   "outputs": [
    {
     "data": {
      "image/png": "[encoded data removed]",
      "text/latex": [
       "$\\displaystyle \\left\\{\\left( 4 - 3 x_{3}, \\  2 x_{3} - 1, \\  x_{3}\\right)\\right\\}$"
      ],
      "text/plain": [
       "{(4 - 3⋅x₃, 2⋅x₃ - 1, x₃)}"
      ]
     },
     "execution_count": 9,
     "metadata": {},
     "output_type": "execute_result"
    }
   ],
   "source": [
    "x=sm.linsolve((e1,e2),x1,x2,x3)\n",
    "x"
   ]
  },
  {
   "cell_type": "markdown",
   "metadata": {},
   "source": [
    "#### 配平方程式（P51)"
   ]
  },
  {
   "cell_type": "code",
   "execution_count": 16,
   "metadata": {},
   "outputs": [
    {
     "data": {
      "text/latex": [
       "$\\displaystyle \\left[\\begin{matrix}3 & 0 & -1 & 0 & 0\\\\8 & 0 & 0 & -2 & 0\\\\0 & 2 & -2 & -1 & 0\\end{matrix}\\right]$"
      ],
      "text/plain": [
       "⎡3  0  -1  0   0⎤\n",
       "⎢               ⎥\n",
       "⎢8  0  0   -2  0⎥\n",
       "⎢               ⎥\n",
       "⎣0  2  -2  -1  0⎦"
      ]
     },
     "execution_count": 16,
     "metadata": {},
     "output_type": "execute_result"
    }
   ],
   "source": [
    "x1,x2,x3,x4=sm.symbols(\"x1 x2 x3 x4\")\n",
    "a=sm.Matrix([[3,0,-1,0,0],\n",
    "             [8,0,0,-2,0],\n",
    "             [0,2,-2,-1,0]])\n",
    "a"
   ]
  },
  {
   "cell_type": "code",
   "execution_count": 17,
   "metadata": {},
   "outputs": [
    {
     "data": {
      "image/png": "[encoded data removed]",
      "text/latex": [
       "$\\displaystyle \\left\\{\\left( \\frac{x_{4}}{4}, \\  \\frac{5 x_{4}}{4}, \\  \\frac{3 x_{4}}{4}, \\  x_{4}\\right)\\right\\}$"
      ],
      "text/plain": [
       "⎧⎛x₄  5⋅x₄  3⋅x₄    ⎞⎫\n",
       "⎨⎜──, ────, ────, x₄⎟⎬\n",
       "⎩⎝4    4     4      ⎠⎭"
      ]
     },
     "execution_count": 17,
     "metadata": {},
     "output_type": "execute_result"
    }
   ],
   "source": [
    "x=sm.linsolve(a,x1,x2,x3,x4)\n",
    "x"
   ]
  },
  {
   "cell_type": "code",
   "execution_count": 18,
   "metadata": {},
   "outputs": [
    {
     "data": {
      "image/png": "[encoded data removed]",
      "text/latex": [
       "$\\displaystyle \\left\\{\\left( 1, \\  5, \\  3, \\  4\\right)\\right\\}$"
      ],
      "text/plain": [
       "{(1, 5, 3, 4)}"
      ]
     },
     "execution_count": 18,
     "metadata": {},
     "output_type": "execute_result"
    }
   ],
   "source": [
    "x.subs(x4,4)"
   ]
  },
  {
   "cell_type": "markdown",
   "metadata": {},
   "source": []
  },
  {
   "cell_type": "code",
   "execution_count": null,
   "metadata": {},
   "outputs": [],
   "source": []
  },
  {
   "cell_type": "code",
   "execution_count": null,
   "metadata": {},
   "outputs": [],
   "source": []
  },
  {
   "cell_type": "code",
   "execution_count": null,
   "metadata": {},
   "outputs": [],
   "source": []
  },
  {
   "cell_type": "code",
   "execution_count": null,
   "metadata": {},
   "outputs": [],
   "source": []
  }
 ],
 "metadata": {
  "kernelspec": {
   "display_name": "Python 3",
   "language": "python",
   "name": "python3"
  },
  "language_info": {
   "codemirror_mode": {
    "name": "ipython",
    "version": 3
   },
   "file_extension": ".py",
   "mimetype": "text/x-python",
   "name": "python",
   "nbconvert_exporter": "python",
   "pygments_lexer": "ipython3",
   "version": "3.7.3"
  }
 },
 "nbformat": 4,
 "nbformat_minor": 2
}
